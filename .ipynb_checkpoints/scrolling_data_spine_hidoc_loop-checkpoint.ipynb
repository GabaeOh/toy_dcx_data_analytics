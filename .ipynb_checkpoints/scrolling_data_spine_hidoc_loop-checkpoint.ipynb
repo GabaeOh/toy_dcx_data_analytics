{
 "cells": [
  {
   "cell_type": "code",
   "execution_count": 1,
   "id": "2fe57957-b548-4aed-bef9-b016bdf24f16",
   "metadata": {
    "tags": []
   },
   "outputs": [],
   "source": [
    "from selenium import webdriver\n",
    "import pandas as pd \n",
    "import pymongo as mg\n",
    "import time"
   ]
  },
  {
   "cell_type": "markdown",
   "id": "ba92e698-a49a-4811-babd-fc194074bbae",
   "metadata": {},
   "source": [
    "## 웹사이트 : 하이닥 \n",
    "- https://www.hidoc.co.kr/"
   ]
  },
  {
   "cell_type": "code",
   "execution_count": 143,
   "id": "bd3bfd98-0b13-404d-a487-379041b83f27",
   "metadata": {
    "tags": []
   },
   "outputs": [],
   "source": [
    "browser = webdriver.Chrome(executable_path='../chromedriver.exe') \n",
    "browser.get('https://www.hidoc.co.kr/integratesearch/searchhealthqnalist?query=%EC%B2%99%EC%B6%94')"
   ]
  },
  {
   "cell_type": "code",
   "execution_count": 3,
   "id": "d8a8aaa7-a0c4-4d3b-85c0-8eb502c17b9f",
   "metadata": {
    "tags": []
   },
   "outputs": [],
   "source": [
    "browser.implicitly_wait(10)"
   ]
  },
  {
   "cell_type": "markdown",
   "id": "f4c0b293-0804-42e2-ba9c-33cae0731056",
   "metadata": {},
   "source": [
    "### 커뮤니티 정보 \n",
    "- 전체 : #hidocBody > div > div.coll_cont.coll_qna > div.coll_info > ul > li:nth-child(1)\n",
    "- 제목 :  div.coll_info > ul > li:nth-child(1) > a  /link_qna\n",
    "- 내용 : #hidocBody > div > div.coll_cont.coll_qna > div.coll_info > ul > li:nth-child(1) > p.desc_txt\n",
    "- 답변 : #hidocBody > div > div.coll_cont.coll_qna > div.coll_info > ul > li:nth-child(1) > p.desc_answer\n",
    "- "
   ]
  },
  {
   "cell_type": "markdown",
   "id": "74d60e99-6569-4df8-b752-da0526db2f3a",
   "metadata": {},
   "source": [
    "### 해당 내용 \n",
    "- 제목 : div.box_type1.view_question > div.inner > strong\n",
    "- 내용 : div.desc > p\n",
    "- 게시 날짜 : div.inner > div.clear_g > div.user_info > span\n",
    "- 태크 : #hidocBody > div.health_view > div.box_type1.view_question > div.inner > div.txt_tag\n",
    "\n",
    "- 답변제목 : #hidocBody > div.health_view > div.view_answer > div:nth-child(28) > strong\n",
    "- 답변자 : div:nth-child(29) > div.answer_head > div.doctor_clinic > a\n",
    "- 답변자 소속 : div:nth-child(29) > div.answer_head > div.doctor_clinic > span\n",
    "- 답변 내용 : #hidocBody > div.health_view > div.view_answer > div:nth-child(29) > div.answer_body > div > div:nth-child(1)"
   ]
  },
  {
   "cell_type": "code",
   "execution_count": 4,
   "id": "dec72883-01be-464e-8887-3f076ce862ad",
   "metadata": {
    "tags": []
   },
   "outputs": [],
   "source": [
    "# 한 게시글 클릭 \n",
    "click_comm= browser.find_element_by_css_selector('div.coll_info > ul > li:nth-child(1) > a').click()"
   ]
  },
  {
   "cell_type": "code",
   "execution_count": 18,
   "id": "f1736dc6-e017-42cb-aeaa-ce4db7e99797",
   "metadata": {
    "tags": []
   },
   "outputs": [
    {
     "data": {
      "text/plain": [
       "['척추 석회증 문제',\n",
       " '안녕하세요 모친 건강문제로 문의드립니다.\\n요즘들어 부쩍 종아리가 뭉치는등 통증을 호소하고 있는데 병원에서 척추석회증으로 수술받아야 한다는 말을 들었습니다. 처음에는 하지정맥류로 의심했는데 요통이 하체까지 타고 내려와 종아리에 영향을 끼치는것 같다는 생각을 했습니다. 그래서 틈나는대로 주우르고 있는데 제가 주무르는건 한계가 있어 선생님들께 다음 몇가지 문의를 드리고자 합니다.\\n\\n1. 척추석회증으로 종아리가 뭉치거나 하는 증상이 있는지\\n2. 꼭 수술을 해야 하는지\\n3종아리 를 풀어주려면 어떤 조치를 취해야 하는지\\n4기타 다른증상이 또 있는지\\n\\n\\n복약중인 약은 혈압약 고지혈증 약을 먹고 있습니다.',\n",
       " '2023.05.20',\n",
       " 'SMART TAG : 뼈, 척추, 정형외과']"
      ]
     },
     "execution_count": 18,
     "metadata": {},
     "output_type": "execute_result"
    }
   ],
   "source": [
    "# 질문 정보 \n",
    "question_title = browser.find_element_by_css_selector('div.box_type1.view_question > div.inner > strong').text\n",
    "question_content = browser.find_element_by_css_selector('div.desc > p').text\n",
    "question_date = browser.find_element_by_css_selector('div.inner > div.clear_g > div.user_info > span').text\n",
    "question_tag = browser.find_element_by_css_selector('div.inner > div.txt_tag').text\n",
    "\n",
    "[question_title, question_content, question_date, question_tag ]"
   ]
  },
  {
   "cell_type": "code",
   "execution_count": null,
   "id": "13c41e0c-1a4f-4ab3-af25-22f5846fd384",
   "metadata": {
    "tags": []
   },
   "outputs": [],
   "source": [
    "# 답변 정보 \n",
    "answer_title = browser.find_element_by_css_selector('div.view_answer > div:nth-child(28) > strong').text\n",
    "answer_name = browser.find_element_by_css_selector('div:nth-child(29) > div.answer_head > div.doctor_clinic > a').text\n",
    "answer_belong = browser.find_element_by_css_selector('div:nth-child(29) > div.answer_head > div.doctor_clinic > span').text\n",
    "answer_content = browser.find_element_by_css_selector('div.view_answer > div:nth-child(29) > div.answer_body > div > div:nth-child(1)').text\n",
    "\n",
    "[answer_title, answer_name, answer_belong, answer_content ]"
   ]
  },
  {
   "cell_type": "markdown",
   "id": "f84eb675-58cf-4997-98d0-2b0a4d0bc2aa",
   "metadata": {},
   "source": [
    "### 여러개의 답변 가져오기 \n",
    "- 답변 정보 묶음 : .view_answer\n",
    "- 답변 정보 갯수 : .box_type1.hidoc_answer"
   ]
  },
  {
   "cell_type": "code",
   "execution_count": null,
   "id": "4fa190a0-35c4-4439-9665-eae412214e7b",
   "metadata": {
    "tags": []
   },
   "outputs": [],
   "source": [
    "elements_answer_number = browser.find_elements_by_css_selector('.view_answer')\n",
    "type(elements_answer_number), type(elements_answer_number[0])"
   ]
  },
  {
   "cell_type": "code",
   "execution_count": 60,
   "id": "fb55caf2-7d89-42c1-a9b8-bed4070a6f45",
   "metadata": {
    "tags": []
   },
   "outputs": [
    {
     "data": {
      "text/plain": [
       "1"
      ]
     },
     "execution_count": 60,
     "metadata": {},
     "output_type": "execute_result"
    }
   ],
   "source": [
    "# 묶음의 총 갯수 파악\n",
    "answers_bundle = browser.find_elements_by_css_selector('.box_type1.hidoc_answer')\n",
    "len(answers_bundle)"
   ]
  },
  {
   "cell_type": "code",
   "execution_count": 61,
   "id": "6d5aad1e-0385-4800-b2dd-e104f0c8c996",
   "metadata": {
    "tags": []
   },
   "outputs": [],
   "source": [
    "answer_list= list()\n",
    "for answer in answers_bundle: \n",
    "    answer_title = browser.find_element_by_css_selector('div.view_answer > div:nth-child(28) > strong').text\n",
    "    answer_name = browser.find_element_by_css_selector('div:nth-child(29) > div.answer_head > div.doctor_clinic > a').text\n",
    "    answer_belong = browser.find_element_by_css_selector('div:nth-child(29) > div.answer_head > div.doctor_clinic > span').text\n",
    "    answer_content = browser.find_element_by_css_selector('div.view_answer > div:nth-child(29) > div.answer_body > div > div:nth-child(1)').text\n",
    "    \n",
    "    answers_list = [answer_title, answer_name, answer_belong, answer_content ]\n",
    "    answer_list.append(answers_list)"
   ]
  },
  {
   "cell_type": "code",
   "execution_count": 62,
   "id": "6674afdc-38a9-4966-8ea8-ee4a92ec990a",
   "metadata": {
    "tags": []
   },
   "outputs": [
    {
     "data": {
      "text/plain": [
       "[['Re :척추이분증',\n",
       "  '남경훈 [전문의]',\n",
       "  '등편한신경외과의원',\n",
       "  '안녕하세요 하이닥 신경외과 상담의 남경훈 입니다.\\n둘은 좀 다른 개념입니다. 척추이분증은 spina bifida 라고 하구요, 척추분리증은 spondylolysis 라고 합니다. 척추이분증은 척추의 후궁이 완전히 닫히지 않은 상태를 말하며, 주로 하부 요추와 천추에 흔합니다.\\n임상적으로 별다른 의미가 없는 선천적 기형입니다. 외상과도 별다른 연관이 없으며, 요통의 원인도 되지 않습니다.\\n척추분리증은 척추후궁의 협부에 결손이 있는 경우입니다. 아직 원인은 완벽하게 이해되지 않지만, 반복적인 물리적인 스트레스나 외상에 의해 협부결손이 발생한다는 설이 유력한것으로 알려져 있습니다.\\n그외에 선천적으로 골화점이 유합되지 못해 발생한다는 설, 출생시 외상에 의한다는 설, 무혈관성 괴사에 의해 발생한다는 설, 기립자세에 의한 반복적인 스트레스가 원인이라는 설, 유전적인 영향을 받는다는\\n설, 반복적인 미세손상에 의한다는 설 등이 있습니다. 그러나 척추 분리증은 대부분 우연히 발견되며, 분리증이 있다고 모두 요통을 일으키지는 않지만, 외상등에 의해 요통이 발생할 빈도가 일반사람들에 비해\\n다소 높을 수는 있습니다. 따라서 증상이 없다면 굳이 치료를 요하지 않습니다.']]"
      ]
     },
     "execution_count": 62,
     "metadata": {},
     "output_type": "execute_result"
    }
   ],
   "source": [
    "answer_list"
   ]
  },
  {
   "cell_type": "markdown",
   "id": "cad6b040-9077-42d7-b912-43a4ae449296",
   "metadata": {},
   "source": [
    "### paginations\n",
    "- 2페이지 : #hidocBody > div.health_main > div.paging_type1 > span > a:nth-child(2) /num_page\n",
    "- 5페이지 : #hidocBody > div.health_main > div.paging_type1 > span > a:nth-child(5)"
   ]
  },
  {
   "cell_type": "code",
   "execution_count": 12,
   "id": "d363e34a-ba3e-4a5f-8cad-f61fcc3f5e4e",
   "metadata": {
    "tags": []
   },
   "outputs": [
    {
     "data": {
      "text/plain": [
       "20"
      ]
     },
     "execution_count": 12,
     "metadata": {},
     "output_type": "execute_result"
    }
   ],
   "source": [
    "questions_bundle = browser.find_elements_by_css_selector('.link_qna')\n",
    "len(questions_bundle)"
   ]
  },
  {
   "cell_type": "code",
   "execution_count": 45,
   "id": "a1f52deb-d42b-4916-93c4-471df0310ee9",
   "metadata": {
    "tags": []
   },
   "outputs": [],
   "source": [
    " click_comm= browser.find_element_by_css_selector('div.coll_info > ul > li:nth-child(2) > a').click()"
   ]
  },
  {
   "cell_type": "code",
   "execution_count": 53,
   "id": "9d614dc6-99e8-4b0a-8900-ae3faafeae2e",
   "metadata": {
    "jupyter": {
     "source_hidden": true
    },
    "tags": []
   },
   "outputs": [],
   "source": [
    "# 질문 리스트 가져오기 \n",
    "questions_bundle = browser.find_elements_by_css_selector('.link_qna')\n",
    "len(questions_bundle)\n",
    "\n",
    "# 게시물 질문 가져오기 \n",
    "questions_list = list()\n",
    "for question_bundle in questions_bundle:\n",
    "    # 각 질문 클릭\n",
    "    question_bundle.click()\n",
    "       \n",
    "    try:\n",
    "        question_title = browser.find_element_by_css_selector('div.box_type1.view_question > div.inner > strong').text\n",
    "    except : \n",
    "        question_title = str()\n",
    "    try:\n",
    "        question_content = browser.find_element_by_css_selector('div.desc > p').text\n",
    "    except :\n",
    "        question_content = str()\n",
    "    try:\n",
    "        question_date = browser.find_element_by_css_selector('div.inner > div.clear_g > div.user_info > span').text\n",
    "    except :\n",
    "        question_date = str()\n",
    "    try : \n",
    "        question_tag = browser.find_element_by_css_selector('div.inner > div.txt_tag').text\n",
    "    except :\n",
    "        question_tag = str()\n",
    "        \n",
    "    question_list = [question_title, question_content, question_date, question_tag ]\n",
    "    questions_list.append(question_list) \n",
    "        \n",
    "    browser.back() #팝업 닫기\n",
    "    "
   ]
  },
  {
   "cell_type": "code",
   "execution_count": 54,
   "id": "c32ef063-a73b-4d86-bdda-00ede14bdbc4",
   "metadata": {
    "collapsed": true,
    "jupyter": {
     "outputs_hidden": true
    },
    "tags": []
   },
   "outputs": [
    {
     "data": {
      "text/plain": [
       "[['척추 석회증 문제',\n",
       "  '안녕하세요 모친 건강문제로 문의드립니다.\\n요즘들어 부쩍 종아리가 뭉치는등 통증을 호소하고 있는데 병원에서 척추석회증으로 수술받아야 한다는 말을 들었습니다. 처음에는 하지정맥류로 의심했는데 요통이 하체까지 타고 내려와 종아리에 영향을 끼치는것 같다는 생각을 했습니다. 그래서 틈나는대로 주우르고 있는데 제가 주무르는건 한계가 있어 선생님들께 다음 몇가지 문의를 드리고자 합니다.\\n\\n1. 척추석회증으로 종아리가 뭉치거나 하는 증상이 있는지\\n2. 꼭 수술을 해야 하는지\\n3종아리 를 풀어주려면 어떤 조치를 취해야 하는지\\n4기타 다른증상이 또 있는지\\n\\n\\n복약중인 약은 혈압약 고지혈증 약을 먹고 있습니다.',\n",
       "  '2023.05.20',\n",
       "  'SMART TAG : 뼈, 척추, 정형외과'],\n",
       " ['척추질문',\n",
       "  '척추를 쭉 곧으면 제 등뒤에 동그랗게 홈이 나져요\\n정상인가요? 아니면 척추가 삐뚠건가요',\n",
       "  '2020.05.15',\n",
       "  'SMART TAG : 인체기관, 척추, 청년(20~30대), 남성, 신경외과, 정형외과'],\n",
       " ['척추뼈',\n",
       "  '안녕하세요!저는 오늘 병원가서 진료보고 엑스레이까지 찍었는데 척추뼈가 다른사람들에 비해서 ㅘ나 더있다고 야길들었고 디스크 증상도있다고 하는군요.또 한 제가 군필자인데 장애신청할수있는 부분인가요? 그리고 치료를 어떡해해야하나요? 의사선생님께서 장애 어쩌구 얘길하시더라고여 ㅠ궁금합니다 ㅠㅠ',\n",
       "  '2013.05.10',\n",
       "  'SMART TAG : 뼈, 성인, 시니어, 신경외과, 정형외과, 척추증'],\n",
       " ['척추교정...',\n",
       "  '- 상담내용 :\\n제가 x-ray를 찍었었는데 척추가 눈에 보일정도로 휘어 있더라구요\\n척추를 교정하려면 보조기구를 사용해야한다는 말을 들었는데\\n다른 방법은 없는건가요?\\n(근데 눈에 보일 정도면 많이 휜거겠지요?..)\\n\\n\\n\\n답변부탁드립니다! 수고하세요',\n",
       "  '2010.06.12',\n",
       "  'SMART TAG : 뼈, 중추신경, 신경외과, 신경과, 정형외과, 재활의학과, 척추굽음증, 척추측만증'],\n",
       " ['척추쪽 질문드립니다.',\n",
       "  '제가 이전에 질문으로\\n-----------------------------\\n제가 낭습증인거같아서 많이 찾아본 결과, 신장이 차면, 하체와 머리쪽이 뜨거워 진다고 하더라고요.\\n근데 제가 겪고 있는 증상이\\n1. 만성피로 ->이것도 신장이 이상있으면 생긴다고함.\\n2. 귀속이 뭔가 뜨거워진 느낌이며, 건조귀지에서, 습한 귀지로 바뀜.\\n3. 사타구니는 핫팩처럼 뜨거워짐.\\n4. 허리와 허벅지 뒷쪽이 땡김.\\n\\n전부 신장과 관련있는 것 같더라구요. 신장질환일까요? 맞다면 무슨 질환일까요??\\n아니면 걍 허리통으로 인해 혈액순환 장애일까요?\\n-----------------------------------\\n라고 올렸습니다. 그리고 답변으로 척추쪽 문제이지 않나 싶다고 말씀하셨는데요.\\n제가 군간부를 하면서 허리를 비대칭으로 많이 썼고, 지금은 허리통이 있어서, 무리하지 않고 운동같은 것도 쉬고 있는데요.\\n군대에서 CT인가, mri를 찍어본 결과 살짝 비대칭에 척추노화가 있었고, 검사맡고 약 8년 정도가 지났네용.\\n배꼽뒷쪽 허리가 평소에 전체적으로 불편하긴 합니다. 통증은 아니지만요. 근육뭉친 느낌이거나 자고 일어나면 허리가 불편해 새우잠을 자고 있어요.\\n\\n\\n결론을 말씀드리면, 위의 문제가 있을 때 척추쪽 질환으로 보셨는데, 저런 증상이 나오는 경우 어떤 척추질환쪽을 찾아봐야 할까요?',\n",
       "  '2023.08.22',\n",
       "  'SMART TAG : 근골격계, 척추, 정형외과'],\n",
       " ['척추분리증', '', '2012.07.25', 'SMART TAG : 신경과, 정형외과, 척추분리증'],\n",
       " ['척추 수술',\n",
       "  '안녕하세요?제 증상으로 문의를 드립니다.\\n제가 2년전에 일을 하다가 허리를 삐끗해서 병원에 가보니 척추 협착증이라고 하여서 수술을 하였습니다.\\n척추4번과5번을 협착증수술을 하였습니다.\\n그런데 그 이후 심하게 움직이고 일을 했을 경우 다리가 저리고 압박감이 옵니다. 병원에 가서 엑스레이를 찍어보니 이상이 없다고 합니다.\\n왜 그러는 걸까요?',\n",
       "  '2012.07.16',\n",
       "  'SMART TAG : 뼈, 성인, 시니어, 신경외과, 정형외과, 척추관협착증'],\n",
       " ['척추관절염 ( spa )',\n",
       "  '다리 근육 강직 증상이 있어 걷는게 매우 불편합니다.\\n가만히 있을때 다리가 무겁고 강직이 심해지며 걸을때도 오른쪽으로 강직이 심해져\\n양쪽 무릎 거위발건 쪽에 통증이 생기네요\\n척추관절염으로 위 같은 증상이 생길수가 있나요 ??????',\n",
       "  '2023.03.02',\n",
       "  'SMART TAG : 척추, 정형외과, 기타관절염'],\n",
       " ['척추협착증', '', '2012.12.18', 'SMART TAG : 정형외과, 척추관협착증'],\n",
       " ['척추전방전위증',\n",
       "  '척추전방전위증 1기입니다.\\n\\n혹시 가능한 스트레칭 범위와 수면 자세를 알고 싶습니다',\n",
       "  '2022.05.03',\n",
       "  'SMART TAG : 근골격계, 뼈, 척추, 정신/신경계, 재활의학과, 척추분리증, 운동'],\n",
       " ['척추마취후 엎드려자거나 옆으로 누워자도 되나요?',\n",
       "  '항문 수술로 인해 척추마취를 햇엇습니다 거의 5일정도 시간이 지나기는 햇습니다 이틀전부터 피곤햇엇는지 잠을 엎드려자거나 옆으로 누워잣엇는데요 척추 마취후 엎드려 자거나 옆으로 누워자면 뇌쪽이나 눈쪽에 문제가 생길 수 잇나요?',\n",
       "  '2022.09.06',\n",
       "  'SMART TAG : 마취, 눈, 척추, 안과'],\n",
       " ['척추이분증',\n",
       "  '허리통증으로 병원에서 x-ray ct  mri등 검사를 해본결과\\n어느병원에서는 척추이분증이라고 하고 어느병원에서는 척추분리증이라고 합니다. 동일한 필름을 가지고 다른 병명 진단을 내리시던데요...\\n두병명간에 차이가 없어서 인지요?\\n두가지 병명을 말해주시는 선생님은 안계시고\\n꼭 척추이분증이나 분리증 중 한가지를 말씀하시는데.... 왜 그런지 궁금합니다.\\n특별한 치료방법이 있는지도 궁금합니다.',\n",
       "  '2012.06.04',\n",
       "  'SMART TAG : 뼈, 중추신경, 신경외과, 척추분리증'],\n",
       " ['척추 전만증',\n",
       "  '- 상담내용 : \\n\\n중,고등학교 부터 본의아니게 자세가 흐트러져서 엉덩이는 튀어나오고\\n아랫배가 앞으로 튀어나오는 체형으로 변했습니다. 고등학교때 급격히 살이 찐것도 영향을 준것 같습니다. 현재는 전만증이라는걸 알고 몇일전 부터 운동을 하고 있는데\\n많이 좋아졌어요. 체형도 교정이 되어가고 있습니다.\\n질문을 여기에 해도 될지 모르겠습니다만,\\n한창 클 시기에 다리는 성장이 멈추고 허리만 성장을 해서 하체가 짧은 편에 속하는데요. 살도 찌고  전만증으로 인해 하체쪽 무릎성장판에 심한 자극이 되어서 그런것이 아닌가 하는 생각이 드는데요.\\n척추는 앞으로, 엉덩이는 뒤로 빠져서 서있을때도 무게를 다리로만 지탱을 해서 그런지 무릎관절이 아플때가 많았습니다.\\n잘못된 자세로 장기간에 걸쳐 척추전만증고 같은 체형이 지속되면 다리 성장에 방해가 되는건가요? ',\n",
       "  '2010.01.08',\n",
       "  'SMART TAG : 뼈, 중추신경, 청소년, 신경외과, 가정의학과, 정형외과, 재활의학과, 척추굽음증, 척추측만증, 척추변형'],\n",
       " ['척추 분리증',\n",
       "  '이번에 십자인대 핀제거와 무릎 성형술 수술을 했습니다.\\n수술 후 삼일 뒤 허리와 등 통증이 갑작스럽게 와서 엑스레이를 찍어본 결과 척추분리증이라는 진단을 받았습니다.\\n\\n척추분리증은 어떠한 질환인지 잘 모르겠습니다. 쉽게 설명해주세요..\\n그리고 조금 오래 앉아있으면 통증이 심해집니다.\\n처음엔 오른쪽 허리 등 부분이 많이 아팠는데\\n이제는 왼쪽 엉덩이쪽도 아픕니다.\\n진통제를 먹으면 조금 괜찮아지지만 밤에는 아픕니다.\\n너무 진통제만 의지하는 거 같아 지금은 약을 먹지 않고 통증이 얼마나 있는지 체크하고 있습니다.\\n\\n더 심해질 수 있는 건가요? 진통제만이 답인건가요?\\n척추분리증도 수술이 있나요..? 나빠지는 자세는 무엇인가요!?',\n",
       "  '2019.08.05',\n",
       "  'SMART TAG : 근골격계, 뼈, 척추, 청년(20~30대), 여성, 정형외과, 재활의학과, 척추분리증'],\n",
       " ['척추분리증', '', '2012.07.24', 'SMART TAG : 중추신경, 신경외과, 정형외과, 척추분리증'],\n",
       " ['골반,척추 틀어지면 유전에 영향 가나요?',\n",
       "  '골반,척추 틀어지면 유전에 영향 가나요?',\n",
       "  '2020.06.02',\n",
       "  'SMART TAG : 척추, 골반, 청년(20~30대), 남성, 신경외과, 정형외과, 척추변형, 유전질환'],\n",
       " ['척추뼈가 아픕니다.',\n",
       "  '선생님 안녕하세요. 우선 이렇게 상담해주셔서 감사합니다.\\n병원부터 가기에는 너무 미비한 통증이라서요.\\n\\n6개월 정도 된것같아요.\\n평상시에는 전혀 통증이 없다가\\n자기전 누울 때, 아침에 일어날 때, 쪼그려 앉을때(의자말고), 허리 숙일 때 \\n이럴때만  허리라인에서 2~3cm 위에 (척추번호를 몰라서요)쯤에 척추뼈가 동전크기만큼만 아픕니다.\\n평상시도 그 부위를 손가락으로 누르면 역시 아파요. 그밖에 다른 증상은 없고 (저린다든가 허리전체가 아프다든가......)불편한것도  없어요. 자세만 좋아지면 바로 안아프거든요.\\n보통 얼굴에난 가벼운 여드름 종기같은건(딱 이정도에 통증입니다) 그냥 두면 좋아지잖아요. 그래서 지금까지 방치했지만 나중에 큰병될까봐서요.\\n병원가서 치료 받아야 할까요? 미비하지만 장기간동안 아프니까 걱정이 됩니다.\\n\\n참고로, 제가 평소 tv볼때 쿠션을 등에 대고 반쯤 누워서 보는대요. 이 자세 때문에 척추뼈가 아픈것 같기도 하고\\n또 5년전에 치질수술한 적이 있는데 척추에 놓는 마취있잖아요. 그 부위와 일치하는거 같기도합니다.',\n",
       "  '2010.03.17',\n",
       "  'SMART TAG : 뼈, 성인, 신경외과, 정형외과, 척추증'],\n",
       " ['척추분리증 척추이분증',\n",
       "  '- 상담내용 : \\n 척추분리증  척추이분증 이 있다고 3년전에 진단받았는데요\\n\\n 그떈 감기때문에 근육주사를 맞고 갑자기 다리가 마비증상과함께 땡김증상이 있어 물리치료만 2주정도 치료했는데 마비증상과 떙김증상이 없어졌었어요\\n 그후론 2년동안 통증이 없고 증상이없어 잊어버리고 있었는데\\n\\n1년전부터 허리통증과 다리가 떙김증상과 함께 장단지가 터질듯이 아프드라고요\\n오래서있거나 하면 그날은 다리가 떙땡 붓는증상이 ...잘때까지 아프더라고요\\n골반이 허리와 따로노는느낌이 요즘엔 더심해져요\\n\\n 몇달전에 찰을 한번 받았었는데   물리치료와  견인치료를  권하시더라고요\\n꾸준히는 못받았지만 .. 별효과를 못느끼겠어요..\\n큰병원가서 정밀검사를 해봐야하나 고민이에요...\\n수술을 해야하는건가.. 다들 수술은 하지말라고 하시더라고요....',\n",
       "  '2010.02.16',\n",
       "  'SMART TAG : 뼈, 중추신경, 신경외과, 정형외과, 재활의학과, 마취통증의학과, 척추분리증'],\n",
       " ['골반,척추 틀어지면 유전에 영향 가나요?',\n",
       "  '골반,척추 틀어지면 유전에 영향 가나요?',\n",
       "  '2020.06.02',\n",
       "  'SMART TAG : 척추, 골반, 청년(20~30대), 남성, 신경외과, 정형외과, 척추변형, 유전질환'],\n",
       " ['강직성 척추염',\n",
       "  '선생님.\\n\\n강직성 척추염 환자의 90~95%에서 관련 유전자가 검출된다고 하셨는데요.\\n반대로 유전자가 검출된 사람이 정상일 확률은 얼마나 되는지요?\\n그리고 저의 증상의 경우에 정말 강직성 척추염이 의심이 되는 증상인가요? 정밀검사를 받는 게 좋을 지 의견부탁드립니다.',\n",
       "  '2016.03.18',\n",
       "  'SMART TAG : 근골격계, 뼈, 정신/신경계, 내과, 류마티스내과, 강직성척추염']]"
      ]
     },
     "execution_count": 54,
     "metadata": {},
     "output_type": "execute_result"
    }
   ],
   "source": [
    "questions_list"
   ]
  },
  {
   "cell_type": "code",
   "execution_count": 85,
   "id": "6e9cf7fb-b90a-4382-8abe-87269520b1cf",
   "metadata": {
    "tags": []
   },
   "outputs": [],
   "source": [
    "browser.find_element_by_css_selector('#hidocBody > div > div.coll_cont.coll_qna > div.paging_type1 > span > a:nth-child(3)').click()"
   ]
  },
  {
   "cell_type": "code",
   "execution_count": 128,
   "id": "6d944035-ab9e-4110-8cb7-e47a03921739",
   "metadata": {
    "collapsed": true,
    "jupyter": {
     "outputs_hidden": true
    },
    "tags": []
   },
   "outputs": [
    {
     "name": "stdout",
     "output_type": "stream",
     "text": [
      "성공 : 2 \n",
      "성공 : 3 \n",
      "성공 : 4 \n",
      "성공 : 5 \n",
      "성공 : 6 \n",
      "성공 : 7 \n",
      "성공 : 8 \n",
      "성공 : 9 \n",
      "성공 : 10 \n",
      "오류\n",
      "성공 : 3 \n",
      "성공 : 4 \n",
      "성공 : 5 \n",
      "성공 : 6 \n",
      "성공 : 7 \n",
      "성공 : 8 \n",
      "성공 : 9 \n",
      "성공 : 10 \n",
      "오류\n",
      "성공 : 3 \n",
      "성공 : 4 \n",
      "오류\n",
      "오류\n",
      "오류\n",
      "오류\n",
      "오류\n",
      "오류\n"
     ]
    },
    {
     "ename": "NoSuchWindowException",
     "evalue": "Message: no such window: target window already closed\nfrom unknown error: web view not found\n  (Session info: chrome=116.0.5845.180)\n",
     "output_type": "error",
     "traceback": [
      "\u001b[1;31m---------------------------------------------------------------------------\u001b[0m",
      "\u001b[1;31mNoSuchWindowException\u001b[0m                     Traceback (most recent call last)",
      "Cell \u001b[1;32mIn[128], line 12\u001b[0m\n\u001b[0;32m     10\u001b[0m     \u001b[38;5;28;01mexcept\u001b[39;00m : \n\u001b[0;32m     11\u001b[0m         \u001b[38;5;28mprint\u001b[39m(\u001b[38;5;124m\"\u001b[39m\u001b[38;5;124m오류\u001b[39m\u001b[38;5;124m\"\u001b[39m)\n\u001b[1;32m---> 12\u001b[0m next_page \u001b[38;5;241m=\u001b[39m browser\u001b[38;5;241m.\u001b[39mfind_element_by_css_selector(\u001b[38;5;124m'\u001b[39m\u001b[38;5;124mspan > a.ico_comm.btn_next\u001b[39m\u001b[38;5;124m'\u001b[39m)\u001b[38;5;241m.\u001b[39mclick()\n",
      "File \u001b[1;32m~\\anaconda3\\Lib\\site-packages\\selenium\\webdriver\\remote\\webdriver.py:598\u001b[0m, in \u001b[0;36mWebDriver.find_element_by_css_selector\u001b[1;34m(self, css_selector)\u001b[0m\n\u001b[0;32m    582\u001b[0m \u001b[38;5;28;01mdef\u001b[39;00m \u001b[38;5;21mfind_element_by_css_selector\u001b[39m(\u001b[38;5;28mself\u001b[39m, css_selector):\n\u001b[0;32m    583\u001b[0m \u001b[38;5;250m    \u001b[39m\u001b[38;5;124;03m\"\"\"\u001b[39;00m\n\u001b[0;32m    584\u001b[0m \u001b[38;5;124;03m    Finds an element by css selector.\u001b[39;00m\n\u001b[0;32m    585\u001b[0m \n\u001b[1;32m   (...)\u001b[0m\n\u001b[0;32m    596\u001b[0m \u001b[38;5;124;03m        element = driver.find_element_by_css_selector('#foo')\u001b[39;00m\n\u001b[0;32m    597\u001b[0m \u001b[38;5;124;03m    \"\"\"\u001b[39;00m\n\u001b[1;32m--> 598\u001b[0m     \u001b[38;5;28;01mreturn\u001b[39;00m \u001b[38;5;28mself\u001b[39m\u001b[38;5;241m.\u001b[39mfind_element(by\u001b[38;5;241m=\u001b[39mBy\u001b[38;5;241m.\u001b[39mCSS_SELECTOR, value\u001b[38;5;241m=\u001b[39mcss_selector)\n",
      "File \u001b[1;32m~\\anaconda3\\Lib\\site-packages\\selenium\\webdriver\\remote\\webdriver.py:976\u001b[0m, in \u001b[0;36mWebDriver.find_element\u001b[1;34m(self, by, value)\u001b[0m\n\u001b[0;32m    974\u001b[0m         by \u001b[38;5;241m=\u001b[39m By\u001b[38;5;241m.\u001b[39mCSS_SELECTOR\n\u001b[0;32m    975\u001b[0m         value \u001b[38;5;241m=\u001b[39m \u001b[38;5;124m'\u001b[39m\u001b[38;5;124m[name=\u001b[39m\u001b[38;5;124m\"\u001b[39m\u001b[38;5;132;01m%s\u001b[39;00m\u001b[38;5;124m\"\u001b[39m\u001b[38;5;124m]\u001b[39m\u001b[38;5;124m'\u001b[39m \u001b[38;5;241m%\u001b[39m value\n\u001b[1;32m--> 976\u001b[0m \u001b[38;5;28;01mreturn\u001b[39;00m \u001b[38;5;28mself\u001b[39m\u001b[38;5;241m.\u001b[39mexecute(Command\u001b[38;5;241m.\u001b[39mFIND_ELEMENT, {\n\u001b[0;32m    977\u001b[0m     \u001b[38;5;124m'\u001b[39m\u001b[38;5;124musing\u001b[39m\u001b[38;5;124m'\u001b[39m: by,\n\u001b[0;32m    978\u001b[0m     \u001b[38;5;124m'\u001b[39m\u001b[38;5;124mvalue\u001b[39m\u001b[38;5;124m'\u001b[39m: value})[\u001b[38;5;124m'\u001b[39m\u001b[38;5;124mvalue\u001b[39m\u001b[38;5;124m'\u001b[39m]\n",
      "File \u001b[1;32m~\\anaconda3\\Lib\\site-packages\\selenium\\webdriver\\remote\\webdriver.py:321\u001b[0m, in \u001b[0;36mWebDriver.execute\u001b[1;34m(self, driver_command, params)\u001b[0m\n\u001b[0;32m    319\u001b[0m response \u001b[38;5;241m=\u001b[39m \u001b[38;5;28mself\u001b[39m\u001b[38;5;241m.\u001b[39mcommand_executor\u001b[38;5;241m.\u001b[39mexecute(driver_command, params)\n\u001b[0;32m    320\u001b[0m \u001b[38;5;28;01mif\u001b[39;00m response:\n\u001b[1;32m--> 321\u001b[0m     \u001b[38;5;28mself\u001b[39m\u001b[38;5;241m.\u001b[39merror_handler\u001b[38;5;241m.\u001b[39mcheck_response(response)\n\u001b[0;32m    322\u001b[0m     response[\u001b[38;5;124m'\u001b[39m\u001b[38;5;124mvalue\u001b[39m\u001b[38;5;124m'\u001b[39m] \u001b[38;5;241m=\u001b[39m \u001b[38;5;28mself\u001b[39m\u001b[38;5;241m.\u001b[39m_unwrap_value(\n\u001b[0;32m    323\u001b[0m         response\u001b[38;5;241m.\u001b[39mget(\u001b[38;5;124m'\u001b[39m\u001b[38;5;124mvalue\u001b[39m\u001b[38;5;124m'\u001b[39m, \u001b[38;5;28;01mNone\u001b[39;00m))\n\u001b[0;32m    324\u001b[0m     \u001b[38;5;28;01mreturn\u001b[39;00m response\n",
      "File \u001b[1;32m~\\anaconda3\\Lib\\site-packages\\selenium\\webdriver\\remote\\errorhandler.py:242\u001b[0m, in \u001b[0;36mErrorHandler.check_response\u001b[1;34m(self, response)\u001b[0m\n\u001b[0;32m    240\u001b[0m         alert_text \u001b[38;5;241m=\u001b[39m value[\u001b[38;5;124m'\u001b[39m\u001b[38;5;124malert\u001b[39m\u001b[38;5;124m'\u001b[39m]\u001b[38;5;241m.\u001b[39mget(\u001b[38;5;124m'\u001b[39m\u001b[38;5;124mtext\u001b[39m\u001b[38;5;124m'\u001b[39m)\n\u001b[0;32m    241\u001b[0m     \u001b[38;5;28;01mraise\u001b[39;00m exception_class(message, screen, stacktrace, alert_text)\n\u001b[1;32m--> 242\u001b[0m \u001b[38;5;28;01mraise\u001b[39;00m exception_class(message, screen, stacktrace)\n",
      "\u001b[1;31mNoSuchWindowException\u001b[0m: Message: no such window: target window already closed\nfrom unknown error: web view not found\n  (Session info: chrome=116.0.5845.180)\n"
     ]
    }
   ],
   "source": [
    "for next_page in range(1,10) :\n",
    "    # next_page = 'span > a.ico_comm.btn_next'\n",
    "    for page_number in range(2, 11) : # 첫 페이지는 tag가 달라짐\n",
    "        element_path = '#hidocBody > div > div.coll_cont.coll_qna > div.paging_type1 > span > a:nth-child({})'.format(page_number)\n",
    "        try : \n",
    "            pagination = browser.find_element_by_css_selector(element_path)\n",
    "            pagination.click()\n",
    "            time.sleep(2) # term을 주기\n",
    "            print(\"성공 : {} \".format(page_number))\n",
    "        except : \n",
    "            print(\"오류\")\n",
    "    next_page = browser.find_element_by_css_selector('span > a.ico_comm.btn_next').click()\n",
    "    "
   ]
  },
  {
   "cell_type": "code",
   "execution_count": 142,
   "id": "c26fb9d7-20a4-4e11-9f42-17350f04d11f",
   "metadata": {
    "tags": []
   },
   "outputs": [
    {
     "name": "stdout",
     "output_type": "stream",
     "text": [
      "성공 : 2 \n",
      "성공 : 3 \n",
      "성공 : 4 \n",
      "성공 : 5 \n",
      "오류\n",
      "성공 : 6 \n",
      "오류\n",
      "성공 : 7 \n",
      "오류\n",
      "성공 : 8 \n",
      "오류\n",
      "성공 : 9 \n",
      "오류\n",
      "성공 : 10 \n",
      "오류\n"
     ]
    },
    {
     "ename": "NoSuchWindowException",
     "evalue": "Message: no such window: target window already closed\nfrom unknown error: web view not found\n  (Session info: chrome=116.0.5845.180)\n",
     "output_type": "error",
     "traceback": [
      "\u001b[1;31m---------------------------------------------------------------------------\u001b[0m",
      "\u001b[1;31mNoSuchWindowException\u001b[0m                     Traceback (most recent call last)",
      "Cell \u001b[1;32mIn[142], line 79\u001b[0m\n\u001b[0;32m     76\u001b[0m     \u001b[38;5;28;01mexcept\u001b[39;00m : \n\u001b[0;32m     77\u001b[0m         \u001b[38;5;28mprint\u001b[39m(\u001b[38;5;124m\"\u001b[39m\u001b[38;5;124m오류\u001b[39m\u001b[38;5;124m\"\u001b[39m)\n\u001b[1;32m---> 79\u001b[0m next_page \u001b[38;5;241m=\u001b[39m browser\u001b[38;5;241m.\u001b[39mfind_element_by_css_selector(\u001b[38;5;124m'\u001b[39m\u001b[38;5;124mspan > a.ico_comm.btn_next\u001b[39m\u001b[38;5;124m'\u001b[39m)\u001b[38;5;241m.\u001b[39mclick()\n\u001b[0;32m     81\u001b[0m \u001b[38;5;66;03m# 저장을 위한 작업\u001b[39;00m\n\u001b[0;32m     82\u001b[0m comm_colums_name \u001b[38;5;241m=\u001b[39m [\u001b[38;5;124m'\u001b[39m\u001b[38;5;124mquestion_title\u001b[39m\u001b[38;5;124m'\u001b[39m, \u001b[38;5;124m'\u001b[39m\u001b[38;5;124mquestion_content\u001b[39m\u001b[38;5;124m'\u001b[39m, \u001b[38;5;124m'\u001b[39m\u001b[38;5;124mquestion_date\u001b[39m\u001b[38;5;124m'\u001b[39m, \u001b[38;5;124m'\u001b[39m\u001b[38;5;124mquestion_tag\u001b[39m\u001b[38;5;124m'\u001b[39m, \u001b[38;5;124m'\u001b[39m\u001b[38;5;124manswer_title\u001b[39m\u001b[38;5;124m'\u001b[39m, \u001b[38;5;124m'\u001b[39m\u001b[38;5;124manswer_name\u001b[39m\u001b[38;5;124m'\u001b[39m, \u001b[38;5;124m'\u001b[39m\u001b[38;5;124manswer_belong\u001b[39m\u001b[38;5;124m'\u001b[39m, \u001b[38;5;124m'\u001b[39m\u001b[38;5;124manswer_content\u001b[39m\u001b[38;5;124m'\u001b[39m ]\n",
      "File \u001b[1;32m~\\anaconda3\\Lib\\site-packages\\selenium\\webdriver\\remote\\webdriver.py:598\u001b[0m, in \u001b[0;36mWebDriver.find_element_by_css_selector\u001b[1;34m(self, css_selector)\u001b[0m\n\u001b[0;32m    582\u001b[0m \u001b[38;5;28;01mdef\u001b[39;00m \u001b[38;5;21mfind_element_by_css_selector\u001b[39m(\u001b[38;5;28mself\u001b[39m, css_selector):\n\u001b[0;32m    583\u001b[0m \u001b[38;5;250m    \u001b[39m\u001b[38;5;124;03m\"\"\"\u001b[39;00m\n\u001b[0;32m    584\u001b[0m \u001b[38;5;124;03m    Finds an element by css selector.\u001b[39;00m\n\u001b[0;32m    585\u001b[0m \n\u001b[1;32m   (...)\u001b[0m\n\u001b[0;32m    596\u001b[0m \u001b[38;5;124;03m        element = driver.find_element_by_css_selector('#foo')\u001b[39;00m\n\u001b[0;32m    597\u001b[0m \u001b[38;5;124;03m    \"\"\"\u001b[39;00m\n\u001b[1;32m--> 598\u001b[0m     \u001b[38;5;28;01mreturn\u001b[39;00m \u001b[38;5;28mself\u001b[39m\u001b[38;5;241m.\u001b[39mfind_element(by\u001b[38;5;241m=\u001b[39mBy\u001b[38;5;241m.\u001b[39mCSS_SELECTOR, value\u001b[38;5;241m=\u001b[39mcss_selector)\n",
      "File \u001b[1;32m~\\anaconda3\\Lib\\site-packages\\selenium\\webdriver\\remote\\webdriver.py:976\u001b[0m, in \u001b[0;36mWebDriver.find_element\u001b[1;34m(self, by, value)\u001b[0m\n\u001b[0;32m    974\u001b[0m         by \u001b[38;5;241m=\u001b[39m By\u001b[38;5;241m.\u001b[39mCSS_SELECTOR\n\u001b[0;32m    975\u001b[0m         value \u001b[38;5;241m=\u001b[39m \u001b[38;5;124m'\u001b[39m\u001b[38;5;124m[name=\u001b[39m\u001b[38;5;124m\"\u001b[39m\u001b[38;5;132;01m%s\u001b[39;00m\u001b[38;5;124m\"\u001b[39m\u001b[38;5;124m]\u001b[39m\u001b[38;5;124m'\u001b[39m \u001b[38;5;241m%\u001b[39m value\n\u001b[1;32m--> 976\u001b[0m \u001b[38;5;28;01mreturn\u001b[39;00m \u001b[38;5;28mself\u001b[39m\u001b[38;5;241m.\u001b[39mexecute(Command\u001b[38;5;241m.\u001b[39mFIND_ELEMENT, {\n\u001b[0;32m    977\u001b[0m     \u001b[38;5;124m'\u001b[39m\u001b[38;5;124musing\u001b[39m\u001b[38;5;124m'\u001b[39m: by,\n\u001b[0;32m    978\u001b[0m     \u001b[38;5;124m'\u001b[39m\u001b[38;5;124mvalue\u001b[39m\u001b[38;5;124m'\u001b[39m: value})[\u001b[38;5;124m'\u001b[39m\u001b[38;5;124mvalue\u001b[39m\u001b[38;5;124m'\u001b[39m]\n",
      "File \u001b[1;32m~\\anaconda3\\Lib\\site-packages\\selenium\\webdriver\\remote\\webdriver.py:321\u001b[0m, in \u001b[0;36mWebDriver.execute\u001b[1;34m(self, driver_command, params)\u001b[0m\n\u001b[0;32m    319\u001b[0m response \u001b[38;5;241m=\u001b[39m \u001b[38;5;28mself\u001b[39m\u001b[38;5;241m.\u001b[39mcommand_executor\u001b[38;5;241m.\u001b[39mexecute(driver_command, params)\n\u001b[0;32m    320\u001b[0m \u001b[38;5;28;01mif\u001b[39;00m response:\n\u001b[1;32m--> 321\u001b[0m     \u001b[38;5;28mself\u001b[39m\u001b[38;5;241m.\u001b[39merror_handler\u001b[38;5;241m.\u001b[39mcheck_response(response)\n\u001b[0;32m    322\u001b[0m     response[\u001b[38;5;124m'\u001b[39m\u001b[38;5;124mvalue\u001b[39m\u001b[38;5;124m'\u001b[39m] \u001b[38;5;241m=\u001b[39m \u001b[38;5;28mself\u001b[39m\u001b[38;5;241m.\u001b[39m_unwrap_value(\n\u001b[0;32m    323\u001b[0m         response\u001b[38;5;241m.\u001b[39mget(\u001b[38;5;124m'\u001b[39m\u001b[38;5;124mvalue\u001b[39m\u001b[38;5;124m'\u001b[39m, \u001b[38;5;28;01mNone\u001b[39;00m))\n\u001b[0;32m    324\u001b[0m     \u001b[38;5;28;01mreturn\u001b[39;00m response\n",
      "File \u001b[1;32m~\\anaconda3\\Lib\\site-packages\\selenium\\webdriver\\remote\\errorhandler.py:242\u001b[0m, in \u001b[0;36mErrorHandler.check_response\u001b[1;34m(self, response)\u001b[0m\n\u001b[0;32m    240\u001b[0m         alert_text \u001b[38;5;241m=\u001b[39m value[\u001b[38;5;124m'\u001b[39m\u001b[38;5;124malert\u001b[39m\u001b[38;5;124m'\u001b[39m]\u001b[38;5;241m.\u001b[39mget(\u001b[38;5;124m'\u001b[39m\u001b[38;5;124mtext\u001b[39m\u001b[38;5;124m'\u001b[39m)\n\u001b[0;32m    241\u001b[0m     \u001b[38;5;28;01mraise\u001b[39;00m exception_class(message, screen, stacktrace, alert_text)\n\u001b[1;32m--> 242\u001b[0m \u001b[38;5;28;01mraise\u001b[39;00m exception_class(message, screen, stacktrace)\n",
      "\u001b[1;31mNoSuchWindowException\u001b[0m: Message: no such window: target window already closed\nfrom unknown error: web view not found\n  (Session info: chrome=116.0.5845.180)\n"
     ]
    }
   ],
   "source": [
    "client = mg.MongoClient(host='mongodb://localhost:27017')\n",
    "database = client['study_data_analytics']\n",
    "collection = database['data_spine_hidoc']\n",
    "\n",
    "comm_list = []\n",
    "for page_number in range(1, 10) : # 1에서 10까지 페이지 순회\n",
    "\n",
    "    for pagenation in range(2,11):\n",
    "        page_path = '#hidocBody > div > div.coll_cont.coll_qna > div.paging_type1 > span > a:nth-child({})'.format(pagenation)\n",
    "        try : \n",
    "            time.sleep(1) # term을 주기\n",
    "            print(\"성공 : {} \".format(pagenation))\n",
    "            \n",
    "            # 질문 리스트 가져오기 \n",
    "            questions_bundle = browser.find_elements_by_css_selector('.link_qna')\n",
    "\n",
    "            # 게시물 질문 가져오기 \n",
    "            for question_bundle in questions_bundle:\n",
    "                # 각 질문 클릭\n",
    "                question_bundle.click()\n",
    "\n",
    "                # 질문에 관한 정보 \n",
    "                try:\n",
    "                    question_title = browser.find_element_by_css_selector('div.box_type1.view_question > div.inner > strong').text\n",
    "                except : \n",
    "                    question_title = str()\n",
    "                try:\n",
    "                    question_content = browser.find_element_by_css_selector('div.desc > p').text\n",
    "                except :\n",
    "                    question_content = str()\n",
    "                try:\n",
    "                    question_date = browser.find_element_by_css_selector('div.inner > div.clear_g > div.user_info > span').text\n",
    "                except :\n",
    "                    question_date = str()\n",
    "                try : \n",
    "                    question_tag = browser.find_element_by_css_selector('div.inner > div.txt_tag').text\n",
    "                except :\n",
    "                    question_tag = str()\n",
    "\n",
    "                # 답변의 총 갯수 파악\n",
    "                answers_bundle = browser.find_elements_by_css_selector('.box_type1.hidoc_answer')\n",
    "                len(answers_bundle)\n",
    "\n",
    "                answer_list= []\n",
    "                for answer in answers_bundle: \n",
    "                    try : \n",
    "                        answer_title = browser.find_element_by_css_selector('div.view_answer > div:nth-child(28) > strong').text\n",
    "                    except :\n",
    "                        answer_title = str()\n",
    "                    try : \n",
    "                        answer_name = browser.find_element_by_css_selector('div:nth-child(29) > div.answer_head > div.doctor_clinic > a').text\n",
    "                    except: \n",
    "                        answer_name = str()\n",
    "                    try : \n",
    "                        answer_belong = browser.find_element_by_css_selector('div:nth-child(29) > div.answer_head > div.doctor_clinic > span').text\n",
    "                    except:\n",
    "                        answer_belong=str()\n",
    "                    try : \n",
    "                        answer_content = browser.find_element_by_css_selector('div.view_answer > div:nth-child(29) > div.answer_body > div > div:nth-child(1)').text\n",
    "                    except:\n",
    "                        answer_content = str()\n",
    "\n",
    "                    answers_list = [question_title, question_content, question_date, question_tag, answer_title, answer_name, answer_belong, answer_content ]\n",
    "                    answer_list.append(answers_list)\n",
    "                browser.back() #팝업 닫기\n",
    "                \n",
    "            pagination = browser.find_element_by_css_selector(page_path)\n",
    "            pagination.click()\n",
    "            \n",
    "            # 현재 페이지의 데이터를 comm_list에 추가\n",
    "            comm_list.extend(answer_list)\n",
    "            # answer_list 초기화\n",
    "            answer_list = []\n",
    "            \n",
    "        except : \n",
    "            print(\"오류\")\n",
    "            \n",
    "    next_page = browser.find_element_by_css_selector('span > a.ico_comm.btn_next').click()\n",
    "        \n",
    "    # 저장을 위한 작업\n",
    "    comm_colums_name = ['question_title', 'question_content', 'question_date', 'question_tag', 'answer_title', 'answer_name', 'answer_belong', 'answer_content' ]\n",
    "    df_comm = pd.DataFrame(data=comm_list, columns=comm_colums_name)\n",
    "    data_dict = df_comm.to_dict(orient='records')\n",
    "    collection.insert_many(data_dict) \n",
    "        "
   ]
  },
  {
   "cell_type": "code",
   "execution_count": null,
   "id": "1688a186-7e51-4cf7-888b-dfc4cc220a3b",
   "metadata": {},
   "outputs": [],
   "source": []
  }
 ],
 "metadata": {
  "kernelspec": {
   "display_name": "Python 3 (ipykernel)",
   "language": "python",
   "name": "python3"
  },
  "language_info": {
   "codemirror_mode": {
    "name": "ipython",
    "version": 3
   },
   "file_extension": ".py",
   "mimetype": "text/x-python",
   "name": "python",
   "nbconvert_exporter": "python",
   "pygments_lexer": "ipython3",
   "version": "3.11.3"
  }
 },
 "nbformat": 4,
 "nbformat_minor": 5
}
