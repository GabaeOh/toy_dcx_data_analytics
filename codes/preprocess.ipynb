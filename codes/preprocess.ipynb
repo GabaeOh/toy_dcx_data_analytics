{
 "cells": [
  {
   "cell_type": "code",
   "execution_count": 8,
   "id": "47998f1d-269f-4a19-83f7-3ac2990cd1b0",
   "metadata": {
    "tags": []
   },
   "outputs": [
    {
     "data": {
      "text/html": [
       "<div>\n",
       "<style scoped>\n",
       "    .dataframe tbody tr th:only-of-type {\n",
       "        vertical-align: middle;\n",
       "    }\n",
       "\n",
       "    .dataframe tbody tr th {\n",
       "        vertical-align: top;\n",
       "    }\n",
       "\n",
       "    .dataframe thead th {\n",
       "        text-align: right;\n",
       "    }\n",
       "</style>\n",
       "<table border=\"1\" class=\"dataframe\">\n",
       "  <thead>\n",
       "    <tr style=\"text-align: right;\">\n",
       "      <th></th>\n",
       "      <th>_id</th>\n",
       "      <th>question_title</th>\n",
       "      <th>question_content</th>\n",
       "      <th>question_date</th>\n",
       "      <th>question_tag</th>\n",
       "      <th>answer_title</th>\n",
       "      <th>answer_name</th>\n",
       "      <th>answer_belong</th>\n",
       "      <th>answer_content</th>\n",
       "    </tr>\n",
       "  </thead>\n",
       "  <tbody>\n",
       "    <tr>\n",
       "      <th>0</th>\n",
       "      <td>64fece172822f039eb37dab3</td>\n",
       "      <td>강직성 척추염</td>\n",
       "      <td>선생님.\\n\\n강직성 척추염 환자의 90~95%에서 관련 유전자가 검출된다고 하셨는...</td>\n",
       "      <td>2016.03.18</td>\n",
       "      <td>SMART TAG : 근골격계, 뼈, 정신/신경계, 내과, 류마티스내과, 강직성척추염</td>\n",
       "      <td>Re : 강직성 척추염</td>\n",
       "      <td>이정찬 [전문의]</td>\n",
       "      <td>서울조인트내과의원</td>\n",
       "      <td>안녕하세요, 하이닥 류마티스내과 상담의 이정찬 입니다.\\n\\n강직성 척추염의 증상이...</td>\n",
       "    </tr>\n",
       "    <tr>\n",
       "      <th>1</th>\n",
       "      <td>64fece172822f039eb37dab4</td>\n",
       "      <td>척추골절 수술 문의드립니다.</td>\n",
       "      <td>60대 여성입니다.\\n얼마전 허리상해로 mri 를 찍었는데\\n병원 주치의 설명으로 ...</td>\n",
       "      <td>2023.05.23</td>\n",
       "      <td>SMART TAG : 근골격계, 뼈, 척추, 정형외과, 재활의학과, 골절</td>\n",
       "      <td>Re : 척추골절 수술 문의드립니다.</td>\n",
       "      <td>이이호 [전문의]</td>\n",
       "      <td>진주고려병원</td>\n",
       "      <td>질문자의 감사 인사 | 2023.05.23\\n많은 도움이 되었습니다. 고맙습니다.</td>\n",
       "    </tr>\n",
       "    <tr>\n",
       "      <th>2</th>\n",
       "      <td>64fece172822f039eb37dab5</td>\n",
       "      <td>척추골절 수술 문의드립니다.</td>\n",
       "      <td>60대 여성입니다.\\n얼마전 허리상해로 mri 를 찍었는데\\n병원 주치의 설명으로 ...</td>\n",
       "      <td>2023.05.23</td>\n",
       "      <td>SMART TAG : 근골격계, 뼈, 척추, 정형외과, 재활의학과, 골절</td>\n",
       "      <td>Re : 척추골절 수술 문의드립니다.</td>\n",
       "      <td>이이호 [전문의]</td>\n",
       "      <td>진주고려병원</td>\n",
       "      <td>질문자의 감사 인사 | 2023.05.23\\n많은 도움이 되었습니다. 고맙습니다.</td>\n",
       "    </tr>\n",
       "  </tbody>\n",
       "</table>\n",
       "</div>"
      ],
      "text/plain": [
       "                        _id   question_title  \\\n",
       "0  64fece172822f039eb37dab3          강직성 척추염   \n",
       "1  64fece172822f039eb37dab4  척추골절 수술 문의드립니다.   \n",
       "2  64fece172822f039eb37dab5  척추골절 수술 문의드립니다.   \n",
       "\n",
       "                                    question_content question_date  \\\n",
       "0  선생님.\\n\\n강직성 척추염 환자의 90~95%에서 관련 유전자가 검출된다고 하셨는...    2016.03.18   \n",
       "1  60대 여성입니다.\\n얼마전 허리상해로 mri 를 찍었는데\\n병원 주치의 설명으로 ...    2023.05.23   \n",
       "2  60대 여성입니다.\\n얼마전 허리상해로 mri 를 찍었는데\\n병원 주치의 설명으로 ...    2023.05.23   \n",
       "\n",
       "                                      question_tag          answer_title  \\\n",
       "0  SMART TAG : 근골격계, 뼈, 정신/신경계, 내과, 류마티스내과, 강직성척추염          Re : 강직성 척추염   \n",
       "1         SMART TAG : 근골격계, 뼈, 척추, 정형외과, 재활의학과, 골절  Re : 척추골절 수술 문의드립니다.   \n",
       "2         SMART TAG : 근골격계, 뼈, 척추, 정형외과, 재활의학과, 골절  Re : 척추골절 수술 문의드립니다.   \n",
       "\n",
       "  answer_name answer_belong                                     answer_content  \n",
       "0   이정찬 [전문의]     서울조인트내과의원  안녕하세요, 하이닥 류마티스내과 상담의 이정찬 입니다.\\n\\n강직성 척추염의 증상이...  \n",
       "1   이이호 [전문의]        진주고려병원      질문자의 감사 인사 | 2023.05.23\\n많은 도움이 되었습니다. 고맙습니다.  \n",
       "2   이이호 [전문의]        진주고려병원      질문자의 감사 인사 | 2023.05.23\\n많은 도움이 되었습니다. 고맙습니다.  "
      ]
     },
     "execution_count": 8,
     "metadata": {},
     "output_type": "execute_result"
    }
   ],
   "source": [
    "import pandas as pd\n",
    "df = pd.read_csv('../datasets/gabaeoh_data_from_hiDoc.csv')\n",
    "df[:3]"
   ]
  },
  {
   "cell_type": "code",
   "execution_count": 10,
   "id": "5fed3183-0c9a-49ce-8cd7-9fabef253f77",
   "metadata": {
    "tags": []
   },
   "outputs": [],
   "source": [
    "df_question = df[['question_content', 'question_date','question_tag']]"
   ]
  },
  {
   "cell_type": "code",
   "execution_count": 17,
   "id": "8b41f686-5c02-49d1-8928-0691a907a9fb",
   "metadata": {
    "tags": []
   },
   "outputs": [],
   "source": [
    "df_question.to_excel('../datasets/select_colums.xlsx')"
   ]
  },
  {
   "cell_type": "markdown",
   "id": "e134a3c1-14da-40da-8eed-c8771a979285",
   "metadata": {},
   "source": [
    "## 전처리 "
   ]
  },
  {
   "cell_type": "markdown",
   "id": "f8d1636d-d380-46ad-b88f-1176e6a8026e",
   "metadata": {},
   "source": [
    "### 결측치 처리"
   ]
  },
  {
   "cell_type": "code",
   "execution_count": 11,
   "id": "7c8065d5-90aa-4354-93d8-6036b0213488",
   "metadata": {
    "tags": []
   },
   "outputs": [
    {
     "name": "stdout",
     "output_type": "stream",
     "text": [
      "<class 'pandas.core.frame.DataFrame'>\n",
      "RangeIndex: 10570 entries, 0 to 10569\n",
      "Data columns (total 3 columns):\n",
      " #   Column            Non-Null Count  Dtype \n",
      "---  ------            --------------  ----- \n",
      " 0   question_content  10283 non-null  object\n",
      " 1   question_date     10570 non-null  object\n",
      " 2   question_tag      10561 non-null  object\n",
      "dtypes: object(3)\n",
      "memory usage: 247.9+ KB\n"
     ]
    }
   ],
   "source": [
    "df_question.info()"
   ]
  },
  {
   "cell_type": "code",
   "execution_count": 13,
   "id": "9fa2dd5a-837e-404f-9845-3df185b697a3",
   "metadata": {
    "tags": []
   },
   "outputs": [
    {
     "data": {
      "text/plain": [
       "question_content    0\n",
       "question_date       0\n",
       "question_tag        0\n",
       "dtype: int64"
      ]
     },
     "execution_count": 13,
     "metadata": {},
     "output_type": "execute_result"
    }
   ],
   "source": [
    "df_question = df_question.dropna()\n",
    "df_question.isnull().sum()"
   ]
  },
  {
   "cell_type": "markdown",
   "id": "689a0cda-df2a-4bef-904c-e8be35b9a0fb",
   "metadata": {},
   "source": [
    "### 자연어 처리 \n",
    "- 불용어 처리 \n",
    "- 한글자 처리 "
   ]
  },
  {
   "cell_type": "code",
   "execution_count": 25,
   "id": "b87d2d06-f83b-4e2b-b383-08eeeb919b78",
   "metadata": {
    "tags": []
   },
   "outputs": [
    {
     "data": {
      "text/html": [
       "<div>\n",
       "<style scoped>\n",
       "    .dataframe tbody tr th:only-of-type {\n",
       "        vertical-align: middle;\n",
       "    }\n",
       "\n",
       "    .dataframe tbody tr th {\n",
       "        vertical-align: top;\n",
       "    }\n",
       "\n",
       "    .dataframe thead th {\n",
       "        text-align: right;\n",
       "    }\n",
       "</style>\n",
       "<table border=\"1\" class=\"dataframe\">\n",
       "  <thead>\n",
       "    <tr style=\"text-align: right;\">\n",
       "      <th></th>\n",
       "      <th>불용어 리스트(stop word)</th>\n",
       "    </tr>\n",
       "  </thead>\n",
       "  <tbody>\n",
       "    <tr>\n",
       "      <th>0</th>\n",
       "      <td>가</td>\n",
       "    </tr>\n",
       "    <tr>\n",
       "      <th>1</th>\n",
       "      <td>가까스로</td>\n",
       "    </tr>\n",
       "    <tr>\n",
       "      <th>2</th>\n",
       "      <td>가령</td>\n",
       "    </tr>\n",
       "    <tr>\n",
       "      <th>3</th>\n",
       "      <td>각</td>\n",
       "    </tr>\n",
       "    <tr>\n",
       "      <th>4</th>\n",
       "      <td>각각</td>\n",
       "    </tr>\n",
       "  </tbody>\n",
       "</table>\n",
       "</div>"
      ],
      "text/plain": [
       "  불용어 리스트(stop word)\n",
       "0                  가\n",
       "1               가까스로\n",
       "2                 가령\n",
       "3                  각\n",
       "4                 각각"
      ]
     },
     "execution_count": 25,
     "metadata": {},
     "output_type": "execute_result"
    }
   ],
   "source": [
    "df_stop_words = pd.read_excel('../datasets/stop_words.xlsx')\n",
    "df_stop_words[:5]"
   ]
  },
  {
   "cell_type": "code",
   "execution_count": 23,
   "id": "7b8d7ce1-9240-4d19-9e31-46da57cd6b10",
   "metadata": {
    "tags": []
   },
   "outputs": [],
   "source": [
    "#!pip install python-mecab-ko pyLDAvis"
   ]
  },
  {
   "cell_type": "code",
   "execution_count": 22,
   "id": "afd86c43-f97f-4191-947b-5c0d13127f07",
   "metadata": {
    "tags": []
   },
   "outputs": [],
   "source": [
    "from mecab import MeCab\n",
    "mecab = MeCab()"
   ]
  },
  {
   "cell_type": "code",
   "execution_count": 26,
   "id": "6e7c1182-ba36-44d7-87c2-787a88ca7fb8",
   "metadata": {
    "tags": []
   },
   "outputs": [],
   "source": [
    "stopwords = df_stop_words['불용어 리스트(stop word)'].values\n",
    "def tokenizer(raw, stopword=stopwords):\n",
    "    result_list = list()\n",
    "    for word in mecab.nouns(raw) :\n",
    "        if len(word) > 1 and word not in stopword :\n",
    "            result_list.append(word)\n",
    "    return ' '.join(result_list) # return str"
   ]
  },
  {
   "cell_type": "code",
   "execution_count": 27,
   "id": "204b209a-df83-49d1-a100-5d2238252bb4",
   "metadata": {
    "tags": []
   },
   "outputs": [
    {
     "data": {
      "text/plain": [
       "['곳', '운동', '수']"
      ]
     },
     "execution_count": 27,
     "metadata": {},
     "output_type": "execute_result"
    }
   ],
   "source": [
    "mecab.nouns('아무곳에서나 보고 억지로라도 운동할수 있어서 너무 좋습니다. 감사히 잘 쓸께요.')"
   ]
  },
  {
   "cell_type": "code",
   "execution_count": 28,
   "id": "82f88438-d5a3-4e93-a29d-2d0e1726b73b",
   "metadata": {
    "tags": []
   },
   "outputs": [
    {
     "data": {
      "text/plain": [
       "'운동'"
      ]
     },
     "execution_count": 28,
     "metadata": {},
     "output_type": "execute_result"
    }
   ],
   "source": [
    "# 형태 분석기 적용된 함수 실행\n",
    "tokenizer('아무곳에서나 보고 억지로라도 운동할수 있어서 너무 좋습니다. 감사히 잘 쓸께요.')"
   ]
  },
  {
   "cell_type": "code",
   "execution_count": 29,
   "id": "54a84188-93f0-4240-8527-78b7aea66ee2",
   "metadata": {
    "tags": []
   },
   "outputs": [
    {
     "data": {
      "text/html": [
       "<div>\n",
       "<style scoped>\n",
       "    .dataframe tbody tr th:only-of-type {\n",
       "        vertical-align: middle;\n",
       "    }\n",
       "\n",
       "    .dataframe tbody tr th {\n",
       "        vertical-align: top;\n",
       "    }\n",
       "\n",
       "    .dataframe thead th {\n",
       "        text-align: right;\n",
       "    }\n",
       "</style>\n",
       "<table border=\"1\" class=\"dataframe\">\n",
       "  <thead>\n",
       "    <tr style=\"text-align: right;\">\n",
       "      <th></th>\n",
       "      <th>question_content</th>\n",
       "      <th>question_date</th>\n",
       "      <th>question_tag</th>\n",
       "      <th>tokenized_content</th>\n",
       "    </tr>\n",
       "  </thead>\n",
       "  <tbody>\n",
       "    <tr>\n",
       "      <th>0</th>\n",
       "      <td>선생님.\\n\\n강직성 척추염 환자의 90~95%에서 관련 유전자가 검출된다고 하셨는...</td>\n",
       "      <td>2016.03.18</td>\n",
       "      <td>SMART TAG : 근골격계, 뼈, 정신/신경계, 내과, 류마티스내과, 강직성척추염</td>\n",
       "      <td>선생 강직 척추염 환자 관련 유전자 검출 유전자 검출 사람 정상 확률 증상 경우 척...</td>\n",
       "    </tr>\n",
       "    <tr>\n",
       "      <th>1</th>\n",
       "      <td>60대 여성입니다.\\n얼마전 허리상해로 mri 를 찍었는데\\n병원 주치의 설명으로 ...</td>\n",
       "      <td>2023.05.23</td>\n",
       "      <td>SMART TAG : 근골격계, 뼈, 척추, 정형외과, 재활의학과, 골절</td>\n",
       "      <td>여성 허리 병원 주치 설명 군데 골절 흉추 군데 요추 군데 압박 골절 통증 척추 성...</td>\n",
       "    </tr>\n",
       "  </tbody>\n",
       "</table>\n",
       "</div>"
      ],
      "text/plain": [
       "                                    question_content question_date  \\\n",
       "0  선생님.\\n\\n강직성 척추염 환자의 90~95%에서 관련 유전자가 검출된다고 하셨는...    2016.03.18   \n",
       "1  60대 여성입니다.\\n얼마전 허리상해로 mri 를 찍었는데\\n병원 주치의 설명으로 ...    2023.05.23   \n",
       "\n",
       "                                      question_tag  \\\n",
       "0  SMART TAG : 근골격계, 뼈, 정신/신경계, 내과, 류마티스내과, 강직성척추염   \n",
       "1         SMART TAG : 근골격계, 뼈, 척추, 정형외과, 재활의학과, 골절   \n",
       "\n",
       "                                   tokenized_content  \n",
       "0  선생 강직 척추염 환자 관련 유전자 검출 유전자 검출 사람 정상 확률 증상 경우 척...  \n",
       "1  여성 허리 병원 주치 설명 군데 골절 흉추 군데 요추 군데 압박 골절 통증 척추 성...  "
      ]
     },
     "execution_count": 29,
     "metadata": {},
     "output_type": "execute_result"
    }
   ],
   "source": [
    "df_question['tokenized_content']= df_question['question_content'].apply(tokenizer)\n",
    "df_question[:2]"
   ]
  },
  {
   "cell_type": "code",
   "execution_count": null,
   "id": "3193bb85-a9d5-46b5-916e-af538277f5dc",
   "metadata": {},
   "outputs": [],
   "source": []
  },
  {
   "cell_type": "markdown",
   "id": "e061e9ab-bb3e-4574-9546-6d15624aae18",
   "metadata": {},
   "source": [
    "## 부정과 긍정 댓글 분리 "
   ]
  },
  {
   "cell_type": "code",
   "execution_count": null,
   "id": "8a09ba62-8d97-4978-9223-d20af652e2f7",
   "metadata": {},
   "outputs": [],
   "source": []
  }
 ],
 "metadata": {
  "kernelspec": {
   "display_name": "Python 3 (ipykernel)",
   "language": "python",
   "name": "python3"
  },
  "language_info": {
   "codemirror_mode": {
    "name": "ipython",
    "version": 3
   },
   "file_extension": ".py",
   "mimetype": "text/x-python",
   "name": "python",
   "nbconvert_exporter": "python",
   "pygments_lexer": "ipython3",
   "version": "3.11.4"
  }
 },
 "nbformat": 4,
 "nbformat_minor": 5
}
