{
 "cells": [
  {
   "cell_type": "code",
   "execution_count": 145,
   "id": "2fe57957-b548-4aed-bef9-b016bdf24f16",
   "metadata": {
    "tags": []
   },
   "outputs": [],
   "source": [
    "from selenium import webdriver\n",
    "import pandas as pd \n",
    "import pymongo as mg\n",
    "import time"
   ]
  },
  {
   "cell_type": "markdown",
   "id": "ba92e698-a49a-4811-babd-fc194074bbae",
   "metadata": {},
   "source": [
    "## 웹사이트 : 하이닥 \n",
    "- https://www.hidoc.co.kr/"
   ]
  },
  {
   "cell_type": "code",
   "execution_count": 143,
   "id": "bd3bfd98-0b13-404d-a487-379041b83f27",
   "metadata": {
    "tags": []
   },
   "outputs": [],
   "source": [
    "browser = webdriver.Chrome(executable_path='../chromedriver.exe') \n",
    "browser.get('https://www.hidoc.co.kr/integratesearch/searchhealthqnalist?query=%EC%B2%99%EC%B6%94')"
   ]
  },
  {
   "cell_type": "code",
   "execution_count": 3,
   "id": "d8a8aaa7-a0c4-4d3b-85c0-8eb502c17b9f",
   "metadata": {
    "tags": []
   },
   "outputs": [],
   "source": [
    "browser.implicitly_wait(10)"
   ]
  },
  {
   "cell_type": "markdown",
   "id": "f4c0b293-0804-42e2-ba9c-33cae0731056",
   "metadata": {},
   "source": [
    "### 커뮤니티 정보 \n",
    "- 전체 : #hidocBody > div > div.coll_cont.coll_qna > div.coll_info > ul > li:nth-child(1)\n",
    "- 제목 :  div.coll_info > ul > li:nth-child(1) > a  /link_qna\n",
    "- 내용 : #hidocBody > div > div.coll_cont.coll_qna > div.coll_info > ul > li:nth-child(1) > p.desc_txt\n",
    "- 답변 : #hidocBody > div > div.coll_cont.coll_qna > div.coll_info > ul > li:nth-child(1) > p.desc_answer\n",
    "- "
   ]
  },
  {
   "cell_type": "markdown",
   "id": "74d60e99-6569-4df8-b752-da0526db2f3a",
   "metadata": {},
   "source": [
    "### 해당 내용 \n",
    "- 제목 : div.box_type1.view_question > div.inner > strong\n",
    "- 내용 : div.desc > p\n",
    "- 게시 날짜 : div.inner > div.clear_g > div.user_info > span\n",
    "- 태크 : #hidocBody > div.health_view > div.box_type1.view_question > div.inner > div.txt_tag\n",
    "\n",
    "- 답변제목 : #hidocBody > div.health_view > div.view_answer > div:nth-child(28) > strong\n",
    "- 답변자 : div:nth-child(29) > div.answer_head > div.doctor_clinic > a\n",
    "- 답변자 소속 : div:nth-child(29) > div.answer_head > div.doctor_clinic > span\n",
    "- 답변 내용 : #hidocBody > div.health_view > div.view_answer > div:nth-child(29) > div.answer_body > div > div:nth-child(1)"
   ]
  },
  {
   "cell_type": "code",
   "execution_count": 4,
   "id": "dec72883-01be-464e-8887-3f076ce862ad",
   "metadata": {
    "tags": []
   },
   "outputs": [],
   "source": [
    "# 한 게시글 클릭 \n",
    "click_comm= browser.find_element_by_css_selector('div.coll_info > ul > li:nth-child(1) > a').click()"
   ]
  },
  {
   "cell_type": "code",
   "execution_count": 128,
   "id": "6d944035-ab9e-4110-8cb7-e47a03921739",
   "metadata": {
    "tags": []
   },
   "outputs": [
    {
     "name": "stdout",
     "output_type": "stream",
     "text": [
      "성공 : 2 \n",
      "성공 : 3 \n",
      "성공 : 4 \n",
      "성공 : 5 \n",
      "성공 : 6 \n",
      "성공 : 7 \n",
      "성공 : 8 \n",
      "성공 : 9 \n",
      "성공 : 10 \n",
      "오류\n",
      "성공 : 3 \n",
      "성공 : 4 \n",
      "성공 : 5 \n",
      "성공 : 6 \n",
      "성공 : 7 \n",
      "성공 : 8 \n",
      "성공 : 9 \n",
      "성공 : 10 \n",
      "오류\n",
      "성공 : 3 \n",
      "성공 : 4 \n",
      "오류\n",
      "오류\n",
      "오류\n",
      "오류\n",
      "오류\n",
      "오류\n"
     ]
    },
    {
     "ename": "NoSuchWindowException",
     "evalue": "Message: no such window: target window already closed\nfrom unknown error: web view not found\n  (Session info: chrome=116.0.5845.180)\n",
     "output_type": "error",
     "traceback": [
      "\u001b[1;31m---------------------------------------------------------------------------\u001b[0m",
      "\u001b[1;31mNoSuchWindowException\u001b[0m                     Traceback (most recent call last)",
      "Cell \u001b[1;32mIn[128], line 12\u001b[0m\n\u001b[0;32m     10\u001b[0m     \u001b[38;5;28;01mexcept\u001b[39;00m : \n\u001b[0;32m     11\u001b[0m         \u001b[38;5;28mprint\u001b[39m(\u001b[38;5;124m\"\u001b[39m\u001b[38;5;124m오류\u001b[39m\u001b[38;5;124m\"\u001b[39m)\n\u001b[1;32m---> 12\u001b[0m next_page \u001b[38;5;241m=\u001b[39m browser\u001b[38;5;241m.\u001b[39mfind_element_by_css_selector(\u001b[38;5;124m'\u001b[39m\u001b[38;5;124mspan > a.ico_comm.btn_next\u001b[39m\u001b[38;5;124m'\u001b[39m)\u001b[38;5;241m.\u001b[39mclick()\n",
      "File \u001b[1;32m~\\anaconda3\\Lib\\site-packages\\selenium\\webdriver\\remote\\webdriver.py:598\u001b[0m, in \u001b[0;36mWebDriver.find_element_by_css_selector\u001b[1;34m(self, css_selector)\u001b[0m\n\u001b[0;32m    582\u001b[0m \u001b[38;5;28;01mdef\u001b[39;00m \u001b[38;5;21mfind_element_by_css_selector\u001b[39m(\u001b[38;5;28mself\u001b[39m, css_selector):\n\u001b[0;32m    583\u001b[0m \u001b[38;5;250m    \u001b[39m\u001b[38;5;124;03m\"\"\"\u001b[39;00m\n\u001b[0;32m    584\u001b[0m \u001b[38;5;124;03m    Finds an element by css selector.\u001b[39;00m\n\u001b[0;32m    585\u001b[0m \n\u001b[1;32m   (...)\u001b[0m\n\u001b[0;32m    596\u001b[0m \u001b[38;5;124;03m        element = driver.find_element_by_css_selector('#foo')\u001b[39;00m\n\u001b[0;32m    597\u001b[0m \u001b[38;5;124;03m    \"\"\"\u001b[39;00m\n\u001b[1;32m--> 598\u001b[0m     \u001b[38;5;28;01mreturn\u001b[39;00m \u001b[38;5;28mself\u001b[39m\u001b[38;5;241m.\u001b[39mfind_element(by\u001b[38;5;241m=\u001b[39mBy\u001b[38;5;241m.\u001b[39mCSS_SELECTOR, value\u001b[38;5;241m=\u001b[39mcss_selector)\n",
      "File \u001b[1;32m~\\anaconda3\\Lib\\site-packages\\selenium\\webdriver\\remote\\webdriver.py:976\u001b[0m, in \u001b[0;36mWebDriver.find_element\u001b[1;34m(self, by, value)\u001b[0m\n\u001b[0;32m    974\u001b[0m         by \u001b[38;5;241m=\u001b[39m By\u001b[38;5;241m.\u001b[39mCSS_SELECTOR\n\u001b[0;32m    975\u001b[0m         value \u001b[38;5;241m=\u001b[39m \u001b[38;5;124m'\u001b[39m\u001b[38;5;124m[name=\u001b[39m\u001b[38;5;124m\"\u001b[39m\u001b[38;5;132;01m%s\u001b[39;00m\u001b[38;5;124m\"\u001b[39m\u001b[38;5;124m]\u001b[39m\u001b[38;5;124m'\u001b[39m \u001b[38;5;241m%\u001b[39m value\n\u001b[1;32m--> 976\u001b[0m \u001b[38;5;28;01mreturn\u001b[39;00m \u001b[38;5;28mself\u001b[39m\u001b[38;5;241m.\u001b[39mexecute(Command\u001b[38;5;241m.\u001b[39mFIND_ELEMENT, {\n\u001b[0;32m    977\u001b[0m     \u001b[38;5;124m'\u001b[39m\u001b[38;5;124musing\u001b[39m\u001b[38;5;124m'\u001b[39m: by,\n\u001b[0;32m    978\u001b[0m     \u001b[38;5;124m'\u001b[39m\u001b[38;5;124mvalue\u001b[39m\u001b[38;5;124m'\u001b[39m: value})[\u001b[38;5;124m'\u001b[39m\u001b[38;5;124mvalue\u001b[39m\u001b[38;5;124m'\u001b[39m]\n",
      "File \u001b[1;32m~\\anaconda3\\Lib\\site-packages\\selenium\\webdriver\\remote\\webdriver.py:321\u001b[0m, in \u001b[0;36mWebDriver.execute\u001b[1;34m(self, driver_command, params)\u001b[0m\n\u001b[0;32m    319\u001b[0m response \u001b[38;5;241m=\u001b[39m \u001b[38;5;28mself\u001b[39m\u001b[38;5;241m.\u001b[39mcommand_executor\u001b[38;5;241m.\u001b[39mexecute(driver_command, params)\n\u001b[0;32m    320\u001b[0m \u001b[38;5;28;01mif\u001b[39;00m response:\n\u001b[1;32m--> 321\u001b[0m     \u001b[38;5;28mself\u001b[39m\u001b[38;5;241m.\u001b[39merror_handler\u001b[38;5;241m.\u001b[39mcheck_response(response)\n\u001b[0;32m    322\u001b[0m     response[\u001b[38;5;124m'\u001b[39m\u001b[38;5;124mvalue\u001b[39m\u001b[38;5;124m'\u001b[39m] \u001b[38;5;241m=\u001b[39m \u001b[38;5;28mself\u001b[39m\u001b[38;5;241m.\u001b[39m_unwrap_value(\n\u001b[0;32m    323\u001b[0m         response\u001b[38;5;241m.\u001b[39mget(\u001b[38;5;124m'\u001b[39m\u001b[38;5;124mvalue\u001b[39m\u001b[38;5;124m'\u001b[39m, \u001b[38;5;28;01mNone\u001b[39;00m))\n\u001b[0;32m    324\u001b[0m     \u001b[38;5;28;01mreturn\u001b[39;00m response\n",
      "File \u001b[1;32m~\\anaconda3\\Lib\\site-packages\\selenium\\webdriver\\remote\\errorhandler.py:242\u001b[0m, in \u001b[0;36mErrorHandler.check_response\u001b[1;34m(self, response)\u001b[0m\n\u001b[0;32m    240\u001b[0m         alert_text \u001b[38;5;241m=\u001b[39m value[\u001b[38;5;124m'\u001b[39m\u001b[38;5;124malert\u001b[39m\u001b[38;5;124m'\u001b[39m]\u001b[38;5;241m.\u001b[39mget(\u001b[38;5;124m'\u001b[39m\u001b[38;5;124mtext\u001b[39m\u001b[38;5;124m'\u001b[39m)\n\u001b[0;32m    241\u001b[0m     \u001b[38;5;28;01mraise\u001b[39;00m exception_class(message, screen, stacktrace, alert_text)\n\u001b[1;32m--> 242\u001b[0m \u001b[38;5;28;01mraise\u001b[39;00m exception_class(message, screen, stacktrace)\n",
      "\u001b[1;31mNoSuchWindowException\u001b[0m: Message: no such window: target window already closed\nfrom unknown error: web view not found\n  (Session info: chrome=116.0.5845.180)\n"
     ]
    }
   ],
   "source": [
    "for next_page in range(1,10) :\n",
    "    # next_page = 'span > a.ico_comm.btn_next'\n",
    "    for page_number in range(2, 11) : # 첫 페이지는 tag가 달라짐\n",
    "        element_path = '#hidocBody > div > div.coll_cont.coll_qna > div.paging_type1 > span > a:nth-child({})'.format(page_number)\n",
    "        try : \n",
    "            pagination = browser.find_element_by_css_selector(element_path)\n",
    "            pagination.click()\n",
    "            time.sleep(2) # term을 주기\n",
    "            print(\"성공 : {} \".format(page_number))\n",
    "        except : \n",
    "            print(\"오류\")\n",
    "    next_page = browser.find_element_by_css_selector('span > a.ico_comm.btn_next').click()\n",
    "    "
   ]
  },
  {
   "cell_type": "code",
   "execution_count": 142,
   "id": "c26fb9d7-20a4-4e11-9f42-17350f04d11f",
   "metadata": {
    "tags": []
   },
   "outputs": [
    {
     "name": "stdout",
     "output_type": "stream",
     "text": [
      "성공 : 2 \n",
      "성공 : 3 \n",
      "성공 : 4 \n",
      "성공 : 5 \n",
      "오류\n",
      "성공 : 6 \n",
      "오류\n",
      "성공 : 7 \n",
      "오류\n",
      "성공 : 8 \n",
      "오류\n",
      "성공 : 9 \n",
      "오류\n",
      "성공 : 10 \n",
      "오류\n"
     ]
    },
    {
     "ename": "NoSuchWindowException",
     "evalue": "Message: no such window: target window already closed\nfrom unknown error: web view not found\n  (Session info: chrome=116.0.5845.180)\n",
     "output_type": "error",
     "traceback": [
      "\u001b[1;31m---------------------------------------------------------------------------\u001b[0m",
      "\u001b[1;31mNoSuchWindowException\u001b[0m                     Traceback (most recent call last)",
      "Cell \u001b[1;32mIn[142], line 79\u001b[0m\n\u001b[0;32m     76\u001b[0m     \u001b[38;5;28;01mexcept\u001b[39;00m : \n\u001b[0;32m     77\u001b[0m         \u001b[38;5;28mprint\u001b[39m(\u001b[38;5;124m\"\u001b[39m\u001b[38;5;124m오류\u001b[39m\u001b[38;5;124m\"\u001b[39m)\n\u001b[1;32m---> 79\u001b[0m next_page \u001b[38;5;241m=\u001b[39m browser\u001b[38;5;241m.\u001b[39mfind_element_by_css_selector(\u001b[38;5;124m'\u001b[39m\u001b[38;5;124mspan > a.ico_comm.btn_next\u001b[39m\u001b[38;5;124m'\u001b[39m)\u001b[38;5;241m.\u001b[39mclick()\n\u001b[0;32m     81\u001b[0m \u001b[38;5;66;03m# 저장을 위한 작업\u001b[39;00m\n\u001b[0;32m     82\u001b[0m comm_colums_name \u001b[38;5;241m=\u001b[39m [\u001b[38;5;124m'\u001b[39m\u001b[38;5;124mquestion_title\u001b[39m\u001b[38;5;124m'\u001b[39m, \u001b[38;5;124m'\u001b[39m\u001b[38;5;124mquestion_content\u001b[39m\u001b[38;5;124m'\u001b[39m, \u001b[38;5;124m'\u001b[39m\u001b[38;5;124mquestion_date\u001b[39m\u001b[38;5;124m'\u001b[39m, \u001b[38;5;124m'\u001b[39m\u001b[38;5;124mquestion_tag\u001b[39m\u001b[38;5;124m'\u001b[39m, \u001b[38;5;124m'\u001b[39m\u001b[38;5;124manswer_title\u001b[39m\u001b[38;5;124m'\u001b[39m, \u001b[38;5;124m'\u001b[39m\u001b[38;5;124manswer_name\u001b[39m\u001b[38;5;124m'\u001b[39m, \u001b[38;5;124m'\u001b[39m\u001b[38;5;124manswer_belong\u001b[39m\u001b[38;5;124m'\u001b[39m, \u001b[38;5;124m'\u001b[39m\u001b[38;5;124manswer_content\u001b[39m\u001b[38;5;124m'\u001b[39m ]\n",
      "File \u001b[1;32m~\\anaconda3\\Lib\\site-packages\\selenium\\webdriver\\remote\\webdriver.py:598\u001b[0m, in \u001b[0;36mWebDriver.find_element_by_css_selector\u001b[1;34m(self, css_selector)\u001b[0m\n\u001b[0;32m    582\u001b[0m \u001b[38;5;28;01mdef\u001b[39;00m \u001b[38;5;21mfind_element_by_css_selector\u001b[39m(\u001b[38;5;28mself\u001b[39m, css_selector):\n\u001b[0;32m    583\u001b[0m \u001b[38;5;250m    \u001b[39m\u001b[38;5;124;03m\"\"\"\u001b[39;00m\n\u001b[0;32m    584\u001b[0m \u001b[38;5;124;03m    Finds an element by css selector.\u001b[39;00m\n\u001b[0;32m    585\u001b[0m \n\u001b[1;32m   (...)\u001b[0m\n\u001b[0;32m    596\u001b[0m \u001b[38;5;124;03m        element = driver.find_element_by_css_selector('#foo')\u001b[39;00m\n\u001b[0;32m    597\u001b[0m \u001b[38;5;124;03m    \"\"\"\u001b[39;00m\n\u001b[1;32m--> 598\u001b[0m     \u001b[38;5;28;01mreturn\u001b[39;00m \u001b[38;5;28mself\u001b[39m\u001b[38;5;241m.\u001b[39mfind_element(by\u001b[38;5;241m=\u001b[39mBy\u001b[38;5;241m.\u001b[39mCSS_SELECTOR, value\u001b[38;5;241m=\u001b[39mcss_selector)\n",
      "File \u001b[1;32m~\\anaconda3\\Lib\\site-packages\\selenium\\webdriver\\remote\\webdriver.py:976\u001b[0m, in \u001b[0;36mWebDriver.find_element\u001b[1;34m(self, by, value)\u001b[0m\n\u001b[0;32m    974\u001b[0m         by \u001b[38;5;241m=\u001b[39m By\u001b[38;5;241m.\u001b[39mCSS_SELECTOR\n\u001b[0;32m    975\u001b[0m         value \u001b[38;5;241m=\u001b[39m \u001b[38;5;124m'\u001b[39m\u001b[38;5;124m[name=\u001b[39m\u001b[38;5;124m\"\u001b[39m\u001b[38;5;132;01m%s\u001b[39;00m\u001b[38;5;124m\"\u001b[39m\u001b[38;5;124m]\u001b[39m\u001b[38;5;124m'\u001b[39m \u001b[38;5;241m%\u001b[39m value\n\u001b[1;32m--> 976\u001b[0m \u001b[38;5;28;01mreturn\u001b[39;00m \u001b[38;5;28mself\u001b[39m\u001b[38;5;241m.\u001b[39mexecute(Command\u001b[38;5;241m.\u001b[39mFIND_ELEMENT, {\n\u001b[0;32m    977\u001b[0m     \u001b[38;5;124m'\u001b[39m\u001b[38;5;124musing\u001b[39m\u001b[38;5;124m'\u001b[39m: by,\n\u001b[0;32m    978\u001b[0m     \u001b[38;5;124m'\u001b[39m\u001b[38;5;124mvalue\u001b[39m\u001b[38;5;124m'\u001b[39m: value})[\u001b[38;5;124m'\u001b[39m\u001b[38;5;124mvalue\u001b[39m\u001b[38;5;124m'\u001b[39m]\n",
      "File \u001b[1;32m~\\anaconda3\\Lib\\site-packages\\selenium\\webdriver\\remote\\webdriver.py:321\u001b[0m, in \u001b[0;36mWebDriver.execute\u001b[1;34m(self, driver_command, params)\u001b[0m\n\u001b[0;32m    319\u001b[0m response \u001b[38;5;241m=\u001b[39m \u001b[38;5;28mself\u001b[39m\u001b[38;5;241m.\u001b[39mcommand_executor\u001b[38;5;241m.\u001b[39mexecute(driver_command, params)\n\u001b[0;32m    320\u001b[0m \u001b[38;5;28;01mif\u001b[39;00m response:\n\u001b[1;32m--> 321\u001b[0m     \u001b[38;5;28mself\u001b[39m\u001b[38;5;241m.\u001b[39merror_handler\u001b[38;5;241m.\u001b[39mcheck_response(response)\n\u001b[0;32m    322\u001b[0m     response[\u001b[38;5;124m'\u001b[39m\u001b[38;5;124mvalue\u001b[39m\u001b[38;5;124m'\u001b[39m] \u001b[38;5;241m=\u001b[39m \u001b[38;5;28mself\u001b[39m\u001b[38;5;241m.\u001b[39m_unwrap_value(\n\u001b[0;32m    323\u001b[0m         response\u001b[38;5;241m.\u001b[39mget(\u001b[38;5;124m'\u001b[39m\u001b[38;5;124mvalue\u001b[39m\u001b[38;5;124m'\u001b[39m, \u001b[38;5;28;01mNone\u001b[39;00m))\n\u001b[0;32m    324\u001b[0m     \u001b[38;5;28;01mreturn\u001b[39;00m response\n",
      "File \u001b[1;32m~\\anaconda3\\Lib\\site-packages\\selenium\\webdriver\\remote\\errorhandler.py:242\u001b[0m, in \u001b[0;36mErrorHandler.check_response\u001b[1;34m(self, response)\u001b[0m\n\u001b[0;32m    240\u001b[0m         alert_text \u001b[38;5;241m=\u001b[39m value[\u001b[38;5;124m'\u001b[39m\u001b[38;5;124malert\u001b[39m\u001b[38;5;124m'\u001b[39m]\u001b[38;5;241m.\u001b[39mget(\u001b[38;5;124m'\u001b[39m\u001b[38;5;124mtext\u001b[39m\u001b[38;5;124m'\u001b[39m)\n\u001b[0;32m    241\u001b[0m     \u001b[38;5;28;01mraise\u001b[39;00m exception_class(message, screen, stacktrace, alert_text)\n\u001b[1;32m--> 242\u001b[0m \u001b[38;5;28;01mraise\u001b[39;00m exception_class(message, screen, stacktrace)\n",
      "\u001b[1;31mNoSuchWindowException\u001b[0m: Message: no such window: target window already closed\nfrom unknown error: web view not found\n  (Session info: chrome=116.0.5845.180)\n"
     ]
    }
   ],
   "source": [
    "client = mg.MongoClient(host='mongodb://localhost:27017')\n",
    "database = client['study_data_analytics']\n",
    "collection = database['data_spine_hidoc']\n",
    "\n",
    "comm_list = []\n",
    "for page_number in range(1, 10) : # 1에서 10까지 페이지 순회\n",
    "\n",
    "    for pagenation in range(2,11):\n",
    "        page_path = '#hidocBody > div > div.coll_cont.coll_qna > div.paging_type1 > span > a:nth-child({})'.format(pagenation)\n",
    "        try : \n",
    "            time.sleep(1) # term을 주기\n",
    "            print(\"성공 : {} \".format(pagenation))\n",
    "            \n",
    "            # 질문 리스트 가져오기 \n",
    "            questions_bundle = browser.find_elements_by_css_selector('.link_qna')\n",
    "\n",
    "            # 게시물 질문 가져오기 \n",
    "            for question_bundle in questions_bundle:\n",
    "                # 각 질문 클릭\n",
    "                question_bundle.click()\n",
    "\n",
    "                # 질문에 관한 정보 \n",
    "                try:\n",
    "                    question_title = browser.find_element_by_css_selector('div.box_type1.view_question > div.inner > strong').text\n",
    "                except : \n",
    "                    question_title = str()\n",
    "                try:\n",
    "                    question_content = browser.find_element_by_css_selector('div.desc > p').text\n",
    "                except :\n",
    "                    question_content = str()\n",
    "                try:\n",
    "                    question_date = browser.find_element_by_css_selector('div.inner > div.clear_g > div.user_info > span').text\n",
    "                except :\n",
    "                    question_date = str()\n",
    "                try : \n",
    "                    question_tag = browser.find_element_by_css_selector('div.inner > div.txt_tag').text\n",
    "                except :\n",
    "                    question_tag = str()\n",
    "\n",
    "                # 답변의 총 갯수 파악\n",
    "                answers_bundle = browser.find_elements_by_css_selector('.box_type1.hidoc_answer')\n",
    "                len(answers_bundle)\n",
    "\n",
    "                answer_list= []\n",
    "                for answer in answers_bundle: \n",
    "                    try : \n",
    "                        answer_title = browser.find_element_by_css_selector('div.view_answer > div:nth-child(28) > strong').text\n",
    "                    except :\n",
    "                        answer_title = str()\n",
    "                    try : \n",
    "                        answer_name = browser.find_element_by_css_selector('div:nth-child(29) > div.answer_head > div.doctor_clinic > a').text\n",
    "                    except: \n",
    "                        answer_name = str()\n",
    "                    try : \n",
    "                        answer_belong = browser.find_element_by_css_selector('div:nth-child(29) > div.answer_head > div.doctor_clinic > span').text\n",
    "                    except:\n",
    "                        answer_belong=str()\n",
    "                    try : \n",
    "                        answer_content = browser.find_element_by_css_selector('div.view_answer > div:nth-child(29) > div.answer_body > div > div:nth-child(1)').text\n",
    "                    except:\n",
    "                        answer_content = str()\n",
    "\n",
    "                    answers_list = [question_title, question_content, question_date, question_tag, answer_title, answer_name, answer_belong, answer_content ]\n",
    "                    answer_list.append(answers_list)\n",
    "                browser.back() #팝업 닫기\n",
    "                \n",
    "            pagination = browser.find_element_by_css_selector(page_path)\n",
    "            pagination.click()\n",
    "            \n",
    "            # 현재 페이지의 데이터를 comm_list에 추가\n",
    "            comm_list.extend(answer_list)\n",
    "            # answer_list 초기화\n",
    "            answer_list = []\n",
    "            \n",
    "        except : \n",
    "            print(\"오류\")\n",
    "            \n",
    "    next_page = browser.find_element_by_css_selector('span > a.ico_comm.btn_next').click()\n",
    "        \n",
    "    # 저장을 위한 작업\n",
    "    comm_colums_name = ['question_title', 'question_content', 'question_date', 'question_tag', 'answer_title', 'answer_name', 'answer_belong', 'answer_content' ]\n",
    "    df_comm = pd.DataFrame(data=comm_list, columns=comm_colums_name)\n",
    "    data_dict = df_comm.to_dict(orient='records')\n",
    "    collection.insert_many(data_dict) \n",
    "        "
   ]
  },
  {
   "cell_type": "code",
   "execution_count": null,
   "id": "1688a186-7e51-4cf7-888b-dfc4cc220a3b",
   "metadata": {},
   "outputs": [],
   "source": []
  }
 ],
 "metadata": {
  "kernelspec": {
   "display_name": "Python 3 (ipykernel)",
   "language": "python",
   "name": "python3"
  },
  "language_info": {
   "codemirror_mode": {
    "name": "ipython",
    "version": 3
   },
   "file_extension": ".py",
   "mimetype": "text/x-python",
   "name": "python",
   "nbconvert_exporter": "python",
   "pygments_lexer": "ipython3",
   "version": "3.11.3"
  }
 },
 "nbformat": 4,
 "nbformat_minor": 5
}
